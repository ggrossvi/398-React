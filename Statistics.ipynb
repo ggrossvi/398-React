{
  "nbformat": 4,
  "nbformat_minor": 0,
  "metadata": {
    "colab": {
      "provenance": [],
      "authorship_tag": "ABX9TyMHJeejso04APy3PqVhWx27",
      "include_colab_link": true
    },
    "kernelspec": {
      "name": "python3",
      "display_name": "Python 3"
    },
    "language_info": {
      "name": "python"
    }
  },
  "cells": [
    {
      "cell_type": "markdown",
      "metadata": {
        "id": "view-in-github",
        "colab_type": "text"
      },
      "source": [
        "<a href=\"https://colab.research.google.com/github/ggrossvi/398-React/blob/main/Statistics.ipynb\" target=\"_parent\"><img src=\"https://colab.research.google.com/assets/colab-badge.svg\" alt=\"Open In Colab\"/></a>"
      ]
    },
    {
      "cell_type": "markdown",
      "source": [
        "Creating a frequency Histogram\n"
      ],
      "metadata": {
        "id": "XsOWOED787Ln"
      }
    },
    {
      "cell_type": "code",
      "source": [
        "arrValues = [\n",
        "\"48945\",\n",
        "\"40937\",\n",
        "\"29036\",\n",
        "\"36566\",\n",
        "\"34081\",\n",
        "\"44001\",\n",
        "\"40731\",\n",
        "\"38016\",\n",
        "\"25076\",\n",
        "\"32631\",\n",
        "\"38332\",\n",
        "\"38430\",\n",
        "\"34293\",\n",
        "\"35800\",\n",
        "\"38764\",\n",
        "\"44396\"\n",
        "]\n",
        "\n",
        "print(\"min value: \", min(arrValues))\n",
        "print(\"max value: \", max(arrValues))\n",
        "\n"
      ],
      "metadata": {
        "colab": {
          "base_uri": "https://localhost:8080/"
        },
        "id": "YaH-DexFWCeQ",
        "outputId": "9213ab1b-71b5-460f-9ee4-b1b43a25d2e3"
      },
      "execution_count": 123,
      "outputs": [
        {
          "output_type": "stream",
          "name": "stdout",
          "text": [
            "min value:  25076\n",
            "max value:  48945\n"
          ]
        }
      ]
    },
    {
      "cell_type": "code",
      "source": [],
      "metadata": {
        "id": "hBdV57XkZlRp"
      },
      "execution_count": null,
      "outputs": []
    },
    {
      "cell_type": "code",
      "source": [
        "def findClassWidth(numClasses, minValue, maxValue):\n",
        "  range = maxValue-minValue\n",
        "  width = range/numClasses\n",
        "  widthRounded = round(width)\n",
        "  print(widthRounded)\n",
        "  return widthRounded\n"
      ],
      "metadata": {
        "id": "ERKaCUZKEgvp"
      },
      "execution_count": 9,
      "outputs": []
    },
    {
      "cell_type": "code",
      "source": [
        "findClassWidth(5,21847,46776)"
      ],
      "metadata": {
        "colab": {
          "base_uri": "https://localhost:8080/"
        },
        "id": "fLzIldMhEz3W",
        "outputId": "d3a3957b-15d7-4900-e668-f404ad312786"
      },
      "execution_count": 11,
      "outputs": [
        {
          "output_type": "stream",
          "name": "stdout",
          "text": [
            "4986\n"
          ]
        }
      ]
    },
    {
      "cell_type": "code",
      "source": [
        "def createRanges(numClasses,classWidth,minValue,maxValue):\n",
        "  arrClassRange = []\n",
        "  # dictValues = dict()\n",
        "  # frequency = 0\n",
        "  classWidth = int(classWidth)\n",
        "  bottom = minValue\n",
        "  for rangeNum in range(1, numClasses+1):\n",
        "    # print(\"classWidth:\", classWidth)\n",
        "    # print(type(rangeNum))\n",
        "    top = bottom + classWidth\n",
        "    midpoint = (bottom + top)/2\n",
        "    print(\"bottom: \", bottom,\"top: \", top, \"midpoint: \", midpoint) \n",
        "    myTuple = (bottom,top)\n",
        "    #print(\"myTuple: \", myTuple)\n",
        "    arrClassRange.append(myTuple)\n",
        "    \n",
        "    \n",
        "    # range = (bottom + \" - \" + top )\n",
        "    bottom = top+1\n",
        "    # top = bottom + (rangeNum * classWidth)\n",
        "    # print(bottom,top)\n",
        "  print(\"arrClassRange: \", arrClassRange)\n",
        "  return [arrClassRange]\n",
        "    \n",
        "\n"
      ],
      "metadata": {
        "id": "lnCJn-CiGgHo"
      },
      "execution_count": 95,
      "outputs": []
    },
    {
      "cell_type": "code",
      "source": [
        "createRanges(5,4985,21847,46776)"
      ],
      "metadata": {
        "colab": {
          "base_uri": "https://localhost:8080/"
        },
        "id": "C6XSfVsFILZ7",
        "outputId": "2ca57983-8d35-4e37-a1b3-f9723a9573dd"
      },
      "execution_count": 125,
      "outputs": [
        {
          "output_type": "stream",
          "name": "stdout",
          "text": [
            "bottom:  21847 top:  26832 midpoint:  24339.5\n",
            "bottom:  26833 top:  31818 midpoint:  29325.5\n",
            "bottom:  31819 top:  36804 midpoint:  34311.5\n",
            "bottom:  36805 top:  41790 midpoint:  39297.5\n",
            "bottom:  41791 top:  46776 midpoint:  44283.5\n",
            "arrClassRange:  [(21847, 26832), (26833, 31818), (31819, 36804), (36805, 41790), (41791, 46776)]\n"
          ]
        }
      ]
    },
    {
      "cell_type": "markdown",
      "source": [
        "**In Progress**"
      ],
      "metadata": {
        "id": "vHZ46HnpTPDo"
      }
    },
    {
      "cell_type": "code",
      "source": [
        "def withinClass(arrClassRange):\n",
        "\n",
        "\n",
        "  for tuple in arrClassRange:\n",
        "    # if value >= bottom and value <= top:\n",
        "    #   frequency =+1\n",
        "    for element in tuple:\n",
        "      print(element)\n",
        "\n"
      ],
      "metadata": {
        "id": "XZTwcogTFr5k"
      },
      "execution_count": 138,
      "outputs": []
    },
    {
      "cell_type": "code",
      "source": [
        "arrClassRange = createRanges(5,4985,21847,46776)\n",
        "print(type(arrClassRange))\n",
        "print(arrClassRange)\n",
        "# arrValues = [\n",
        "# \"48945\",\n",
        "# \"40937\",\n",
        "# \"29036\",\n",
        "# \"36566\",\n",
        "# \"34081\",\n",
        "# \"44001\",\n",
        "# \"40731\",\n",
        "# \"38016\",\n",
        "# \"25076\",\n",
        "# \"32631\",\n",
        "# \"38332\",\n",
        "# \"38430\",\n",
        "# \"34293\",\n",
        "# \"35800\",\n",
        "# \"38764\",\n",
        "# \"44396\"\n",
        "# ]\n",
        "\n",
        "# withinClass(arrClassRange)"
      ],
      "metadata": {
        "colab": {
          "base_uri": "https://localhost:8080/"
        },
        "id": "G2AEQv09RIZ1",
        "outputId": "a4001963-d095-4109-e49d-efb068758d45"
      },
      "execution_count": 140,
      "outputs": [
        {
          "output_type": "stream",
          "name": "stdout",
          "text": [
            "bottom:  21847 top:  26832 midpoint:  24339.5\n",
            "bottom:  26833 top:  31818 midpoint:  29325.5\n",
            "bottom:  31819 top:  36804 midpoint:  34311.5\n",
            "bottom:  36805 top:  41790 midpoint:  39297.5\n",
            "bottom:  41791 top:  46776 midpoint:  44283.5\n",
            "arrClassRange:  [(21847, 26832), (26833, 31818), (31819, 36804), (36805, 41790), (41791, 46776)]\n",
            "<class 'NoneType'>\n",
            "None\n"
          ]
        }
      ]
    },
    {
      "cell_type": "code",
      "source": [
        "def findZScoreForArray(mean,sd, arr):\n",
        "  for value in arr: \n",
        "    zScore = (value - mean)/sd \n",
        "    if (zScore >2 or zScore <-2):\n",
        "      isGreaterthan2Sd = True \n",
        "    else:\n",
        "      isGreaterthan2Sd = False\n",
        "\n",
        "    print(\"value: \",value,\"zScore: \", round(zScore,2), \"greater than 2sd?: \", isGreaterthan2Sd)\n",
        "\n",
        "    if isGreaterthan2Sd ==True:\n",
        "      print(\"value\", value, \"is unusual.\")\n"
      ],
      "metadata": {
        "id": "NXYZv0OeZO6J"
      },
      "execution_count": 141,
      "outputs": []
    },
    {
      "cell_type": "code",
      "source": [
        "arr = [14, 22, 8, 36]  \n",
        "findZScoreForArray(21.4,5.3,arr)"
      ],
      "metadata": {
        "colab": {
          "base_uri": "https://localhost:8080/"
        },
        "id": "ONfpEchwtg_r",
        "outputId": "80776600-bf1c-4ffb-9f0a-cff4cb2e7e73"
      },
      "execution_count": 142,
      "outputs": [
        {
          "output_type": "stream",
          "name": "stdout",
          "text": [
            "value:  14 zScore:  -1.4 greater than 2sd?:  False\n",
            "value:  22 zScore:  0.11 greater than 2sd?:  False\n",
            "value:  8 zScore:  -2.53 greater than 2sd?:  True\n",
            "value 8 is unusual.\n",
            "value:  36 zScore:  2.75 greater than 2sd?:  True\n",
            "value 36 is unusual.\n"
          ]
        }
      ]
    },
    {
      "cell_type": "code",
      "source": [
        "def findZScoreForAreaUnderCurveForRandomVariable(mean,sd,topOfRange):\n",
        "  zScore = (topOfRange-mean)/sd\n",
        "  print(\"the area that correstponds to z \", topOfRange, \"is\", zScore, \".\", \"Look in the Z Table for area that corresponds to the zScore\\n Pay attention to whether score is a negative zScore and whether the x>number or x<number. \\n Subtract the zScore from 1 when you don't have upper bound in case of P(x>number)\")\n",
        "  return zScore"
      ],
      "metadata": {
        "id": "J-OG3pdGk5Cz"
      },
      "execution_count": 163,
      "outputs": []
    },
    {
      "cell_type": "code",
      "source": [
        "findZScoreForAreaUnderCurveForRandomVariable(50,7,36)"
      ],
      "metadata": {
        "colab": {
          "base_uri": "https://localhost:8080/"
        },
        "id": "mb1vXwnYmbSe",
        "outputId": "c520c55a-7f76-4114-df1b-0ad4af8e64f0"
      },
      "execution_count": 164,
      "outputs": [
        {
          "output_type": "stream",
          "name": "stdout",
          "text": [
            "the area that correstponds to z  36 is -2.0 . Look in the Z Table for area that corresponds to the zScore\n",
            " Pay attention to whether score is a negative zScore and whether the x>number or x<number. \n",
            " Subtract the zScore from 1 when you don't have upper bound in case of P(x>number)\n"
          ]
        },
        {
          "output_type": "execute_result",
          "data": {
            "text/plain": [
              "-2.0"
            ]
          },
          "metadata": {},
          "execution_count": 164
        }
      ]
    },
    {
      "cell_type": "markdown",
      "source": [
        "When you have something like P(71<x<83), you get the zscore for both and subtract the smaller from the larger.  "
      ],
      "metadata": {
        "id": "woHEjSektN7W"
      }
    }
  ]
}